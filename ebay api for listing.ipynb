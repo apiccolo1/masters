{
 "cells": [
  {
   "cell_type": "code",
   "execution_count": 1,
   "id": "bd9ec983",
   "metadata": {},
   "outputs": [
    {
     "name": "stdout",
     "output_type": "stream",
     "text": [
      "Requirement already satisfied: requests in c:\\users\\a.piccolo\\appdata\\local\\anaconda3\\lib\\site-packages (2.31.0)\n",
      "Requirement already satisfied: charset-normalizer<4,>=2 in c:\\users\\a.piccolo\\appdata\\local\\anaconda3\\lib\\site-packages (from requests) (2.0.4)\n",
      "Requirement already satisfied: idna<4,>=2.5 in c:\\users\\a.piccolo\\appdata\\local\\anaconda3\\lib\\site-packages (from requests) (3.4)\n",
      "Requirement already satisfied: urllib3<3,>=1.21.1 in c:\\users\\a.piccolo\\appdata\\local\\anaconda3\\lib\\site-packages (from requests) (1.26.16)\n",
      "Requirement already satisfied: certifi>=2017.4.17 in c:\\users\\a.piccolo\\appdata\\local\\anaconda3\\lib\\site-packages (from requests) (2023.7.22)\n",
      "Note: you may need to restart the kernel to use updated packages.\n"
     ]
    }
   ],
   "source": [
    "pip install requests"
   ]
  },
  {
   "cell_type": "code",
   "execution_count": 2,
   "id": "86af5b3a",
   "metadata": {},
   "outputs": [
    {
     "name": "stdout",
     "output_type": "stream",
     "text": [
      "Requirement already satisfied: pandas in c:\\users\\a.piccolo\\appdata\\local\\anaconda3\\lib\\site-packages (2.0.3)\n",
      "Requirement already satisfied: python-dateutil>=2.8.2 in c:\\users\\a.piccolo\\appdata\\local\\anaconda3\\lib\\site-packages (from pandas) (2.8.2)\n",
      "Requirement already satisfied: pytz>=2020.1 in c:\\users\\a.piccolo\\appdata\\local\\anaconda3\\lib\\site-packages (from pandas) (2023.3.post1)\n",
      "Requirement already satisfied: tzdata>=2022.1 in c:\\users\\a.piccolo\\appdata\\local\\anaconda3\\lib\\site-packages (from pandas) (2023.3)\n",
      "Requirement already satisfied: numpy>=1.21.0 in c:\\users\\a.piccolo\\appdata\\local\\anaconda3\\lib\\site-packages (from pandas) (1.24.3)\n",
      "Requirement already satisfied: six>=1.5 in c:\\users\\a.piccolo\\appdata\\local\\anaconda3\\lib\\site-packages (from python-dateutil>=2.8.2->pandas) (1.16.0)\n",
      "Note: you may need to restart the kernel to use updated packages.\n"
     ]
    }
   ],
   "source": [
    "pip install pandas"
   ]
  },
  {
   "cell_type": "code",
   "execution_count": 22,
   "id": "594c4a6c",
   "metadata": {},
   "outputs": [
    {
     "name": "stdout",
     "output_type": "stream",
     "text": [
      "Generated OAuth Token: v^1.1#i^1#I^3#p^1#r^0#f^0#t^H4sIAAAAAAAAAOVYfWwTZRhfuw1cYFsQFEOAlAOMYdz1PtvrhXaUrWSVfZS1G0gkeL17u912vbvcvUdXjLGMhMh/xviN0YkBxI+EBIJiFI2KCDF+gJIgGBRilIAfmIFB8OPuVkY3CV9rYhP7T3vP+7zP+/x+z+9537eH58ZVzVvftP73atd490AOz7ldLmICXjWusq6m3D2tsgwvcHAN5ObkKvrLf1xg8GlZ49qBoamKATx9aVkxOMcYRExd4VTekAxO4dPA4KDAxcMtzRyJ4Zymq1AVVBnxRBuDCOsjk6yfZQM0SQPa77esyuWYCTWIgABOAzJFpASCZ/2MPW4YJogqBuQVGERInKRRgkQJPEFQHENwDIPhAXoF4ukEuiGpiuWC4UjISZdz5uoFuV47Vd4wgA6tIEgoGl4cbwtHGyOtiQXeglihPA9xyEPTGPnUoIrA08nLJrj2MobjzcVNQQCGgXhDQyuMDMqFLydzC+k7VPM0y4hkMkCJPusHKAqTi1U9zcNrp2FbJBFNOa4cUKAEs9cj1CIj2QMEmH9qtUJEGz3211KTl6WUBPQgElkUvi8ciyGhMK+rSkwSUAgMKCldaKy9EfWxSR9D4wyD0sDn54GfyK8zFCxP8qiFGlRFlGzKDE+rChcBK2kwmhq6gBrLqU1p08MpaCdU6MdcppBlV9glHaqhCbsVu6ogbfHgcR6vX4Dh2RDqUtKEYDjC6AGHIavSmiaJyOhBR4l58fQZQaQbQo3zejOZDJahMFXv8pI4TniXtzTHhW6Q5hHH1+5121+6/gRUcqAIlrQsfw5mNSuXPkupVgJKFxKy9EfRdJ73kWmFRlv/ZSjA7B3ZD8XqD1LgqYBPBKLPFyDFQFEaJJTXqNfOAyT5LJrm9V4ANZkXACpYOjPTQJdEjmJSJMWmACr6AimUDqRSaJIRfSiRAgAHIJkUAuz/qE9uVOlxIOgAFknqRZJ5ammySWmq01t7exhtSbQd1xItsKMr0gHZBqmO6lG6W+tYtSXSKGeCN9oMVwXfIEsWMwlr/dLr9SbVgEAcE7y4oGogpsqSkC2tAlO6GON1mI0DWbYMYwIZ1rRosbbqIsG7uV3i1mAX84T6T06nq6IybMWWFip7vmEF4DUJs88fTFDTXpU3od3r3bZ5lZP1mHBL1q21pFBbIIfQSuLQfROzIXdjxmoB04Ghmrp108ba7PtXQu0FinWcQV2VZaB3jk3Xdjun0ybkkzIotb4ugsAlvsTOWsJPUSzF+glmTLgE5yRdVWpbUrF24opFN3+n9o78fx8qcz5Ev+t9vN+1x+1y4QvwucRsfNa48o6K8onTDAkCTOJTmCF1KdbfVh1gvSCr8ZLunlz2WU2zuLap+Vwuab6xbLCeLasueL0wsBK/a/gFQ1U5MaHgbQM+/cpIJVE7tZqkCZLACYohGGYFPvvKaAVxZ8WU9nW7np/Vkxmo3YR4jzWqdHpHTQ6vHnZyuSrLKvpdZWB2J79+5955gy/XvvmLvCaCqwdPHP560m1zeXrG8ezEwEcXWNe9p7e895V7fqDhyMdvv1713MHM3VT6Z/yVhccqp5/SZibedSeeip0Z3LyxY8biddvXnHnEGzv1wQOT53Xu8kzY+uQPzZvYZxbWfz7+m4Ve+rsdaHTjl8eXvPDplHuqN394aeZfe/bvefrAiX3x79kj1Jy/Bw+99tDhrRtmtvRvOVn/zqTI+d0Pb2/9ST53ce0XmZ2n98YOmN9Ozv6GrY1f8rxVX3u2ffX9W544s+32l17dV9+xJPTHyvEX2U+e9Zx/8MKkEwdPKsuP7txubnts9+O7+/Y/OvWOX+cfxQciPWdrfGsOvbjhzzlEeO6yrUO1/AcjrWdC+BEAAA==\n"
     ]
    }
   ],
   "source": [
    "import requests\n",
    "\n",
    "# Replace with your eBay App's credentials\n",
    "client_id = 'AaronPic-testing-PRD-68b654055-4e67ae71'\n",
    "client_secret = 'PRD-5ada24c3dfc8-5c11-42a9-b1ba-1d34'\n",
    "\n",
    "def get_ebay_oauth_token():\n",
    "    url = \"https://api.ebay.com/identity/v1/oauth2/token\"\n",
    "    headers = {\n",
    "        \"Content-Type\": \"application/x-www-form-urlencoded\"\n",
    "    }\n",
    "    data = {\n",
    "        \"grant_type\": \"client_credentials\",\n",
    "        \"scope\": \"https://api.ebay.com/oauth/api_scope\"\n",
    "    }\n",
    "    response = requests.post(url, headers=headers, data=data, auth=(client_id, client_secret))\n",
    "    response.raise_for_status()\n",
    "    return response.json()[\"access_token\"]\n",
    "\n",
    "token = get_ebay_oauth_token()\n",
    "print(\"Generated OAuth Token:\", token)\n"
   ]
  },
  {
   "cell_type": "code",
   "execution_count": 19,
   "id": "8e1763af",
   "metadata": {},
   "outputs": [
    {
     "name": "stdout",
     "output_type": "stream",
     "text": [
      "                                                  Title   Price Currency  \\\n",
      "0     HP Pro X2 Tablet 612 G2 i5-7th Gen 8GB 256GB S...  199.99      GBP   \n",
      "1     Lenovo ThinkPad Windows 11 , 240GB SSD, Intel ...  109.99      GBP   \n",
      "2     FAST WINDOWS 11 CHEAP LAPTOP INTEL CORE 16GB R...  179.99      GBP   \n",
      "3     Laptop HP Windows 11 CORE i5 GEN 6 - 12TH GEN ...  159.99      GBP   \n",
      "4     FAST WINDOWS 11 CHEAP LAPTOP INTEL CORE 8GB RA...   79.99      GBP   \n",
      "...                                                 ...     ...      ...   \n",
      "9995               Asus Chromebook C423N 14\" Chromebook  119.99      GBP   \n",
      "9996                          HP Elitebook 4880p - Used   60.00      GBP   \n",
      "9997  BMAX Plus Intel Laptop 14\" Windows 11 8GB RAM ...  399.00      GBP   \n",
      "9998  Lenovo ThinkPad P53s 15.6\" Laptop I7-8565U 16G...  249.99      GBP   \n",
      "9999  PANASONIC TOUGHBOOK CF-31 BLACK CORE i5 MK1 TO...  699.99      GBP   \n",
      "\n",
      "     Location                                                URL  \n",
      "0          GB  https://www.ebay.co.uk/itm/175735634310?_skw=l...  \n",
      "1          GB  https://www.ebay.co.uk/itm/267066440550?_skw=l...  \n",
      "2          GB  https://www.ebay.co.uk/itm/296767947980?_skw=l...  \n",
      "3          GB  https://www.ebay.co.uk/itm/115777670869?_skw=l...  \n",
      "4          GB  https://www.ebay.co.uk/itm/196870780075?_skw=l...  \n",
      "...       ...                                                ...  \n",
      "9995       GB  https://www.ebay.co.uk/itm/186671638999?_skw=l...  \n",
      "9996       GB  https://www.ebay.co.uk/itm/156550572107?_skw=l...  \n",
      "9997       GB  https://www.ebay.co.uk/itm/305778883965?_skw=l...  \n",
      "9998       GB  https://www.ebay.co.uk/itm/135370010503?_skw=l...  \n",
      "9999       GB  https://www.ebay.co.uk/itm/256704233095?_skw=l...  \n",
      "\n",
      "[10000 rows x 5 columns]\n"
     ]
    }
   ],
   "source": [
    "import pandas as pd\n",
    "\n",
    "def search_laptops_in_uk(oauth_token, query=\"laptop\", max_results=200):\n",
    "    url = \"https://api.ebay.com/buy/browse/v1/item_summary/search\"\n",
    "    headers = {\n",
    "        \"Authorization\": f\"Bearer {oauth_token}\",\n",
    "        \"Content-Type\": \"application/json\",\n",
    "        \"X-EBAY-C-MARKETPLACE-ID\": \"EBAY_GB\"\n",
    "    }\n",
    "    all_items = []\n",
    "    limit = 50  # Maximum items per request (can increase to 200)\n",
    "    \n",
    "    for offset in range(0, max_results, limit):\n",
    "        # Add pagination parameters\n",
    "        params = {\n",
    "            \"q\": query,\n",
    "            \"filter\": \"itemLocationCountry:GB,priceCurrency:GBP\",\n",
    "            \"limit\": limit,\n",
    "            \"offset\": offset\n",
    "        }\n",
    "        response = requests.get(url, headers=headers, params=params)\n",
    "        response.raise_for_status()\n",
    "        data = response.json()\n",
    "\n",
    "        # Append the new items\n",
    "        items = data.get(\"itemSummaries\", [])\n",
    "        all_items.extend(items)\n",
    "\n",
    "        # Stop if no more items are returned\n",
    "        if len(items) < limit:\n",
    "            break\n",
    "\n",
    "    return all_items\n",
    "\n",
    "# Fetch laptops\n",
    "laptops = search_laptops_in_uk(token, max_results=10000)  # Get up to 500 results\n",
    "\n",
    "# Process and display results\n",
    "data = []\n",
    "for item in laptops:\n",
    "    title = item.get(\"title\", \"N/A\")\n",
    "    price = item.get(\"price\", {}).get(\"value\", \"N/A\")\n",
    "    currency = item.get(\"price\", {}).get(\"currency\", \"N/A\")\n",
    "    url = item.get(\"itemWebUrl\", \"N/A\")\n",
    "    location = item.get(\"itemLocation\", {}).get(\"country\", \"N/A\")\n",
    "    data.append({\"Title\": title, \"Price\": price, \"Currency\": currency, \"Location\": location, \"URL\": url})\n",
    "\n",
    "# Create a DataFrame\n",
    "df = pd.DataFrame(data)\n",
    "\n",
    "# Display the DataFrame\n",
    "print(df)\n",
    "\n",
    "df.to_csv(\"ebaylistings.csv\", index=False)\n"
   ]
  },
  {
   "cell_type": "code",
   "execution_count": 23,
   "id": "2ac7ea12",
   "metadata": {},
   "outputs": [
    {
     "ename": "HTTPError",
     "evalue": "404 Client Error: Not Found for url: https://api.ebay.com/buy/browse/v1/item/126785583606",
     "output_type": "error",
     "traceback": [
      "\u001b[1;31m---------------------------------------------------------------------------\u001b[0m",
      "\u001b[1;31mHTTPError\u001b[0m                                 Traceback (most recent call last)",
      "Cell \u001b[1;32mIn[23], line 16\u001b[0m\n\u001b[0;32m     14\u001b[0m \u001b[38;5;66;03m# Fetch details for a specific item\u001b[39;00m\n\u001b[0;32m     15\u001b[0m item_id \u001b[38;5;241m=\u001b[39m \u001b[38;5;124m\"\u001b[39m\u001b[38;5;124m126785583606\u001b[39m\u001b[38;5;124m\"\u001b[39m  \u001b[38;5;66;03m# Replace with an actual item ID\u001b[39;00m\n\u001b[1;32m---> 16\u001b[0m item_details \u001b[38;5;241m=\u001b[39m get_item_details(token, item_id)\n\u001b[0;32m     18\u001b[0m \u001b[38;5;66;03m# Extract item specifics\u001b[39;00m\n\u001b[0;32m     19\u001b[0m localized_aspects \u001b[38;5;241m=\u001b[39m item_details\u001b[38;5;241m.\u001b[39mget(\u001b[38;5;124m\"\u001b[39m\u001b[38;5;124mlocalizedAspects\u001b[39m\u001b[38;5;124m\"\u001b[39m, [])\n",
      "Cell \u001b[1;32mIn[23], line 11\u001b[0m, in \u001b[0;36mget_item_details\u001b[1;34m(oauth_token, item_id)\u001b[0m\n\u001b[0;32m      3\u001b[0m headers \u001b[38;5;241m=\u001b[39m {\n\u001b[0;32m      4\u001b[0m     \u001b[38;5;124m\"\u001b[39m\u001b[38;5;124mAuthorization\u001b[39m\u001b[38;5;124m\"\u001b[39m: \u001b[38;5;124mf\u001b[39m\u001b[38;5;124m\"\u001b[39m\u001b[38;5;124mBearer \u001b[39m\u001b[38;5;132;01m{\u001b[39;00moauth_token\u001b[38;5;132;01m}\u001b[39;00m\u001b[38;5;124m\"\u001b[39m,\n\u001b[0;32m      5\u001b[0m     \u001b[38;5;124m\"\u001b[39m\u001b[38;5;124mContent-Type\u001b[39m\u001b[38;5;124m\"\u001b[39m: \u001b[38;5;124m\"\u001b[39m\u001b[38;5;124mapplication/json\u001b[39m\u001b[38;5;124m\"\u001b[39m,\n\u001b[0;32m      6\u001b[0m     \u001b[38;5;124m\"\u001b[39m\u001b[38;5;124mX-EBAY-C-MARKETPLACE-ID\u001b[39m\u001b[38;5;124m\"\u001b[39m: \u001b[38;5;124m\"\u001b[39m\u001b[38;5;124mEBAY_GB\u001b[39m\u001b[38;5;124m\"\u001b[39m  \u001b[38;5;66;03m# For UK marketplace\u001b[39;00m\n\u001b[0;32m      7\u001b[0m \n\u001b[0;32m      8\u001b[0m }\n\u001b[0;32m     10\u001b[0m response \u001b[38;5;241m=\u001b[39m requests\u001b[38;5;241m.\u001b[39mget(url, headers\u001b[38;5;241m=\u001b[39mheaders)\n\u001b[1;32m---> 11\u001b[0m response\u001b[38;5;241m.\u001b[39mraise_for_status()\n\u001b[0;32m     12\u001b[0m \u001b[38;5;28;01mreturn\u001b[39;00m response\u001b[38;5;241m.\u001b[39mjson()\n",
      "File \u001b[1;32m~\\AppData\\Local\\anaconda3\\Lib\\site-packages\\requests\\models.py:1021\u001b[0m, in \u001b[0;36mResponse.raise_for_status\u001b[1;34m(self)\u001b[0m\n\u001b[0;32m   1016\u001b[0m     http_error_msg \u001b[38;5;241m=\u001b[39m (\n\u001b[0;32m   1017\u001b[0m         \u001b[38;5;124mf\u001b[39m\u001b[38;5;124m\"\u001b[39m\u001b[38;5;132;01m{\u001b[39;00m\u001b[38;5;28mself\u001b[39m\u001b[38;5;241m.\u001b[39mstatus_code\u001b[38;5;132;01m}\u001b[39;00m\u001b[38;5;124m Server Error: \u001b[39m\u001b[38;5;132;01m{\u001b[39;00mreason\u001b[38;5;132;01m}\u001b[39;00m\u001b[38;5;124m for url: \u001b[39m\u001b[38;5;132;01m{\u001b[39;00m\u001b[38;5;28mself\u001b[39m\u001b[38;5;241m.\u001b[39murl\u001b[38;5;132;01m}\u001b[39;00m\u001b[38;5;124m\"\u001b[39m\n\u001b[0;32m   1018\u001b[0m     )\n\u001b[0;32m   1020\u001b[0m \u001b[38;5;28;01mif\u001b[39;00m http_error_msg:\n\u001b[1;32m-> 1021\u001b[0m     \u001b[38;5;28;01mraise\u001b[39;00m HTTPError(http_error_msg, response\u001b[38;5;241m=\u001b[39m\u001b[38;5;28mself\u001b[39m)\n",
      "\u001b[1;31mHTTPError\u001b[0m: 404 Client Error: Not Found for url: https://api.ebay.com/buy/browse/v1/item/126785583606"
     ]
    }
   ],
   "source": [
    "def get_item_details(oauth_token, item_id):\n",
    "    url = f\"https://api.ebay.com/buy/browse/v1/item/{item_id}\"\n",
    "    headers = {\n",
    "        \"Authorization\": f\"Bearer {oauth_token}\",\n",
    "        \"Content-Type\": \"application/json\",\n",
    "        \"X-EBAY-C-MARKETPLACE-ID\": \"EBAY_GB\"  # For UK marketplace\n",
    "\n",
    "    }\n",
    "    \n",
    "    response = requests.get(url, headers=headers)\n",
    "    response.raise_for_status()\n",
    "    return response.json()\n",
    "\n",
    "# Fetch details for a specific item\n",
    "item_id = \"126785583606\"  # Replace with an actual item ID\n",
    "item_details = get_item_details(token, item_id)\n",
    "\n",
    "# Extract item specifics\n",
    "localized_aspects = item_details.get(\"localizedAspects\", [])\n",
    "for aspect in localized_aspects:\n",
    "    print(f\"{aspect['name']}: {aspect['value']}\")\n"
   ]
  },
  {
   "cell_type": "code",
   "execution_count": null,
   "id": "f3b10c7c",
   "metadata": {},
   "outputs": [],
   "source": []
  }
 ],
 "metadata": {
  "kernelspec": {
   "display_name": "Python 3 (ipykernel)",
   "language": "python",
   "name": "python3"
  },
  "language_info": {
   "codemirror_mode": {
    "name": "ipython",
    "version": 3
   },
   "file_extension": ".py",
   "mimetype": "text/x-python",
   "name": "python",
   "nbconvert_exporter": "python",
   "pygments_lexer": "ipython3",
   "version": "3.11.5"
  }
 },
 "nbformat": 4,
 "nbformat_minor": 5
}
